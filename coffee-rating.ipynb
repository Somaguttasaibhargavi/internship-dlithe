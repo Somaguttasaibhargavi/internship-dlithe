{
 "cells": [
  {
   "cell_type": "code",
   "execution_count": 1,
   "metadata": {},
   "outputs": [
    {
     "name": "stdout",
     "output_type": "stream",
     "text": [
      "password:12345\n",
      "staff can press 100 to terminate loop\n",
      "customers,kindly enter the rating of coffee from 1-5\n",
      "enter rating5\n",
      "enter rating4\n",
      "enter rating5\n",
      "enter rating4\n",
      "enter rating\n"
     ]
    },
    {
     "ename": "ValueError",
     "evalue": "invalid literal for int() with base 10: ''",
     "output_type": "error",
     "traceback": [
      "\u001b[1;31m---------------------------------------------------------------------------\u001b[0m",
      "\u001b[1;31mValueError\u001b[0m                                Traceback (most recent call last)",
      "\u001b[1;32m<ipython-input-1-19e86ebdf976>\u001b[0m in \u001b[0;36m<module>\u001b[1;34m\u001b[0m\n\u001b[0;32m      6\u001b[0m \u001b[0mstart\u001b[0m\u001b[1;33m=\u001b[0m\u001b[1;36m100\u001b[0m\u001b[1;33m\u001b[0m\u001b[1;33m\u001b[0m\u001b[0m\n\u001b[0;32m      7\u001b[0m \u001b[1;32mwhile\u001b[0m\u001b[1;33m(\u001b[0m\u001b[0mstart\u001b[0m\u001b[1;33m!=\u001b[0m\u001b[1;36m10\u001b[0m\u001b[1;33m)\u001b[0m\u001b[1;33m:\u001b[0m\u001b[1;33m\u001b[0m\u001b[1;33m\u001b[0m\u001b[0m\n\u001b[1;32m----> 8\u001b[1;33m     \u001b[0mrating\u001b[0m\u001b[1;33m=\u001b[0m\u001b[0mint\u001b[0m\u001b[1;33m(\u001b[0m\u001b[0minput\u001b[0m\u001b[1;33m(\u001b[0m\u001b[1;34m\"enter rating\"\u001b[0m\u001b[1;33m)\u001b[0m\u001b[1;33m)\u001b[0m\u001b[1;33m\u001b[0m\u001b[1;33m\u001b[0m\u001b[0m\n\u001b[0m\u001b[0;32m      9\u001b[0m     \u001b[1;32mif\u001b[0m\u001b[1;33m(\u001b[0m\u001b[0mrating\u001b[0m\u001b[1;33m==\u001b[0m\u001b[1;36m100\u001b[0m\u001b[1;33m)\u001b[0m\u001b[1;33m:\u001b[0m\u001b[1;33m\u001b[0m\u001b[1;33m\u001b[0m\u001b[0m\n\u001b[0;32m     10\u001b[0m         \u001b[0mstart\u001b[0m\u001b[1;33m=\u001b[0m\u001b[1;36m100\u001b[0m\u001b[1;33m\u001b[0m\u001b[1;33m\u001b[0m\u001b[0m\n",
      "\u001b[1;31mValueError\u001b[0m: invalid literal for int() with base 10: ''"
     ]
    }
   ],
   "source": [
    "staff=input(\"password:\")\n",
    "count=0\n",
    "sum=0\n",
    "print(\"staff can press 100 to terminate loop\")\n",
    "print(\"customers,kindly enter the rating of coffee from 1-5\")\n",
    "start=100\n",
    "while(start!=10):\n",
    "    rating=int(input(\"enter rating\"))\n",
    "    if(rating==100):\n",
    "        start=100\n",
    "        break\n",
    "    elif(rating>=0 and rating<=5):\n",
    "        sum=sum+rating\n",
    "        count=count+1\n",
    "    else:\n",
    "        print(\"rating out of range\")\n",
    "        print(\"dear staff,kindly enter the password to see avg\\n\")\n",
    "        password=input(\"password:\")\n",
    "        if(staff==password):\n",
    "            avg=(sum)/count\n",
    "            print(\"average rating is\",avg)\n",
    "        else:\n",
    "            print(\"password incorrect \")"
   ]
  },
  {
   "cell_type": "code",
   "execution_count": 2,
   "metadata": {},
   "outputs": [
    {
     "name": "stdout",
     "output_type": "stream",
     "text": [
      "password:1\n",
      "staff can press 100 to terminate loop\n",
      "customers,kindly enter the rating of coffee from 1-5\n",
      "enter rating4\n",
      "enter rating5\n",
      "enter rating100\n"
     ]
    }
   ],
   "source": [
    "staff=input(\"password:\")\n",
    "count=0\n",
    "sum=0\n",
    "print(\"staff can press 100 to terminate loop\")\n",
    "print(\"customers,kindly enter the rating of coffee from 1-5\")\n",
    "start=100\n",
    "while(start!=10):\n",
    "    rating=int(input(\"enter rating\"))\n",
    "    if(rating==100):\n",
    "        start=100\n",
    "        break\n",
    "    elif(rating>=0 and rating<=5):\n",
    "        sum=sum+rating\n",
    "        count=count+1\n",
    "    else:\n",
    "        print(\"rating out of range\")\n",
    "        print(\"dear staff,kindly enter the password to see avg\\n\")\n",
    "        password=input(\"password:\")\n",
    "        if(staff==password):\n",
    "            avg=(sum)/count\n",
    "            print(\"average rating is\",avg)\n",
    "        else:\n",
    "            print(\"password incorrect \")"
   ]
  },
  {
   "cell_type": "code",
   "execution_count": null,
   "metadata": {},
   "outputs": [],
   "source": []
  }
 ],
 "metadata": {
  "kernelspec": {
   "display_name": "Python 3",
   "language": "python",
   "name": "python3"
  },
  "language_info": {
   "codemirror_mode": {
    "name": "ipython",
    "version": 3
   },
   "file_extension": ".py",
   "mimetype": "text/x-python",
   "name": "python",
   "nbconvert_exporter": "python",
   "pygments_lexer": "ipython3",
   "version": "3.7.9"
  }
 },
 "nbformat": 4,
 "nbformat_minor": 4
}
